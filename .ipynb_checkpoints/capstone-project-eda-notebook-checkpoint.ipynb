{
 "cells": [
  {
   "cell_type": "markdown",
   "metadata": {},
   "source": [
    "## See Below Link for the Original Kaggle Notebook:\n",
    "\n",
    "https://www.kaggle.com/vikasb512/capstone-project-eda-notebook"
   ]
  },
  {
   "cell_type": "markdown",
   "metadata": {},
   "source": [
    "### What is the competition?\n",
    "​\n",
    "This competition is about identifying and localizing COVID-19 abnormalities on chest radiographs. We need to categorize a given chest radiograph image into 4 different classes namely\n",
    "​\n",
    "* Negative for Pneumonia\n",
    "* Typical Appearance \n",
    "* Indeterminate Appearance\n",
    "* Atypical Appearance\n",
    "​\n",
    "The scope of the competition also includes predicting a bounding box that describes the abnormalities. However, for the scope of this notebook, we will focus on the below items:\n",
    "1. Understanding the dataset by visualizing some of the DICOM images\n",
    "2. Process the DICOM image data for a simple binary classification CNN Model\n",
    "3. Export DICOM images as jpg files in separate train and test folders. \n",
    "\n",
    "We will use the jpg files and this notebook as the basis for the Neural Network, for which we will create a separate notebook. \n",
    "\n",
    "## Understanding the Dataset: \n",
    "Ref: (https://www.dicomstandard.org)\n",
    "### What is DICOM?\n",
    "​\n",
    "DICOM® — [Digital Imaging and Communications in Medicine](https://www.dicomstandard.org) — is the ISO recognized international standard for medical images and related information. It defines the formats for medical images that can be exchanged with the data and quality necessary for clinical use.\n",
    "​"
   ]
  },
  {
   "cell_type": "markdown",
   "metadata": {},
   "source": [
    "Lets Import the necessary libraries"
   ]
  },
  {
   "cell_type": "code",
   "execution_count": 5,
   "metadata": {
    "execution": {
     "iopub.execute_input": "2021-07-23T22:31:12.333802Z",
     "iopub.status.busy": "2021-07-23T22:31:12.333461Z",
     "iopub.status.idle": "2021-07-23T22:35:09.804115Z",
     "shell.execute_reply": "2021-07-23T22:35:09.803188Z",
     "shell.execute_reply.started": "2021-07-23T22:31:12.333769Z"
    }
   },
   "outputs": [
    {
     "name": "stdout",
     "output_type": "stream",
     "text": [
      "Collecting package metadata (current_repodata.json): done\n",
      "Solving environment: done\n",
      "\n",
      "## Package Plan ##\n",
      "\n",
      "  environment location: /Users/vikasbansal/miniforge3\n",
      "\n",
      "  added / updated specs:\n",
      "    - conda\n",
      "\n",
      "\n",
      "The following packages will be downloaded:\n",
      "\n",
      "    package                    |            build\n",
      "    ---------------------------|-----------------\n",
      "    brotlipy-0.7.0             |py39h1230e6a_1002         344 KB\n",
      "    ca-certificates-2021.4.13  |       hca03da5_1         119 KB\n",
      "    certifi-2020.12.5          |   py39hca03da5_0         142 KB\n",
      "    cffi-1.14.5                |   py39h9e348fd_0         218 KB\n",
      "    chardet-4.0.0              |py39hca03da5_1003         203 KB\n",
      "    conda-package-handling-1.7.3|   py39h1230e6a_1         1.6 MB\n",
      "    cryptography-3.4.7         |   py39h9dbe03d_0         808 KB\n",
      "    expat-2.3.0                |       hc4ed4cf_2         132 KB\n",
      "    idna-2.10                  |     pyhd3eb1b0_0          52 KB\n",
      "    libcxx-12.0.0              |       hf6beb65_0         1.0 MB\n",
      "    libffi-3.3                 |       hc4ed4cf_2          33 KB\n",
      "    libiconv-1.16              |       h1230e6a_0         1.4 MB\n",
      "    ncurses-6.2                |       hc4ed4cf_0         952 KB\n",
      "    openssl-1.1.1j             |       h1230e6a_0         3.3 MB\n",
      "    pycosat-0.6.3              |   py39h1230e6a_0         107 KB\n",
      "    pycparser-2.20             |             py_2          94 KB\n",
      "    pyopenssl-20.0.1           |     pyhd3eb1b0_1          49 KB\n",
      "    pysocks-1.7.1              |   py39hca03da5_0          27 KB\n",
      "    python-3.9.6               |       hc8d96b9_3        11.9 MB\n",
      "    readline-8.1               |       h1230e6a_0         411 KB\n",
      "    requests-2.25.1            |     pyhd3eb1b0_0          52 KB\n",
      "    ruamel_yaml-0.15.100       |   py39h1230e6a_0         245 KB\n",
      "    setuptools-52.0.0          |   py39hca03da5_0         930 KB\n",
      "    six-1.16.0                 |     pyhd3eb1b0_0          18 KB\n",
      "    sqlite-3.35.4              |       h9835d80_0         1.6 MB\n",
      "    tk-8.6.10                  |       h6b60437_0         3.2 MB\n",
      "    tqdm-4.62.0                |     pyhd3eb1b0_1          83 KB\n",
      "    tzdata-2021a               |       h52ac0ba_0         108 KB\n",
      "    urllib3-1.26.6             |     pyhd3eb1b0_1         112 KB\n",
      "    wheel-0.36.2               |     pyhd3eb1b0_0          33 KB\n",
      "    xz-5.2.4                   |       h1230e6a_0         266 KB\n",
      "    yaml-0.2.5                 |       h1230e6a_0          85 KB\n",
      "    zlib-1.2.11                |       hca03da5_3          95 KB\n",
      "    ------------------------------------------------------------\n",
      "                                           Total:        29.5 MB\n",
      "\n",
      "The following NEW packages will be INSTALLED:\n",
      "\n",
      "  expat              pkgs/main/osx-arm64::expat-2.3.0-hc4ed4cf_2\n",
      "  libiconv           pkgs/main/osx-arm64::libiconv-1.16-h1230e6a_0\n",
      "\n",
      "The following packages will be REMOVED:\n",
      "\n",
      "  charset-normalizer-2.0.0-pyhd8ed1ab_0\n",
      "\n",
      "The following packages will be UPDATED:\n",
      "\n",
      "  brotlipy           conda-forge::brotlipy-0.7.0-py39h5161~ --> pkgs/main::brotlipy-0.7.0-py39h1230e6a_1002\n",
      "  chardet            conda-forge::chardet-4.0.0-py39h2804c~ --> pkgs/main::chardet-4.0.0-py39hca03da5_1003\n",
      "  conda-package-han~ conda-forge::conda-package-handling-1~ --> pkgs/main::conda-package-handling-1.7.3-py39h1230e6a_1\n",
      "  pyopenssl          conda-forge::pyopenssl-20.0.1-pyhd8ed~ --> pkgs/main::pyopenssl-20.0.1-pyhd3eb1b0_1\n",
      "  python             conda-forge::python-3.9.6-h54d631c_1_~ --> pkgs/main::python-3.9.6-hc8d96b9_3\n",
      "  ruamel_yaml        conda-forge::ruamel_yaml-0.15.80-py39~ --> pkgs/main::ruamel_yaml-0.15.100-py39h1230e6a_0\n",
      "  setuptools         conda-forge::setuptools-49.6.0-py39h2~ --> pkgs/main::setuptools-52.0.0-py39hca03da5_0\n",
      "  tqdm                conda-forge::tqdm-4.61.2-pyhd8ed1ab_1 --> pkgs/main::tqdm-4.62.0-pyhd3eb1b0_1\n",
      "  urllib3            conda-forge::urllib3-1.26.6-pyhd8ed1a~ --> pkgs/main::urllib3-1.26.6-pyhd3eb1b0_1\n",
      "\n",
      "The following packages will be SUPERSEDED by a higher-priority channel:\n",
      "\n",
      "  ca-certificates    conda-forge::ca-certificates-2021.5.3~ --> pkgs/main::ca-certificates-2021.4.13-hca03da5_1\n",
      "  certifi            conda-forge::certifi-2021.5.30-py39h2~ --> pkgs/main::certifi-2020.12.5-py39hca03da5_0\n",
      "  cffi               conda-forge::cffi-1.14.6-py39hda8b47f~ --> pkgs/main::cffi-1.14.5-py39h9e348fd_0\n",
      "  cryptography       conda-forge::cryptography-3.4.7-py39h~ --> pkgs/main::cryptography-3.4.7-py39h9dbe03d_0\n",
      "  idna                   conda-forge::idna-3.1-pyhd3deb0d_0 --> pkgs/main::idna-2.10-pyhd3eb1b0_0\n",
      "  libcxx              conda-forge::libcxx-12.0.1-h168391b_0 --> pkgs/main::libcxx-12.0.0-hf6beb65_0\n",
      "  libffi                 conda-forge::libffi-3.3-h9f76cd9_2 --> pkgs/main::libffi-3.3-hc4ed4cf_2\n",
      "  ncurses               conda-forge::ncurses-6.2-h9aa5885_4 --> pkgs/main::ncurses-6.2-hc4ed4cf_0\n",
      "  openssl            conda-forge::openssl-1.1.1k-h27ca646_0 --> pkgs/main::openssl-1.1.1j-h1230e6a_0\n",
      "  pycosat            conda-forge::pycosat-0.6.3-py39h51615~ --> pkgs/main::pycosat-0.6.3-py39h1230e6a_0\n",
      "  pycparser          conda-forge::pycparser-2.20-pyh9f0ad1~ --> pkgs/main::pycparser-2.20-py_2\n",
      "  pysocks            conda-forge::pysocks-1.7.1-py39h2804c~ --> pkgs/main::pysocks-1.7.1-py39hca03da5_0\n",
      "  readline             conda-forge::readline-8.1-hedafd6a_0 --> pkgs/main::readline-8.1-h1230e6a_0\n",
      "  requests           conda-forge::requests-2.26.0-pyhd8ed1~ --> pkgs/main::requests-2.25.1-pyhd3eb1b0_0\n",
      "  six                  conda-forge::six-1.16.0-pyh6c4a22f_0 --> pkgs/main::six-1.16.0-pyhd3eb1b0_0\n",
      "  sqlite              conda-forge::sqlite-3.36.0-h72a2b83_0 --> pkgs/main::sqlite-3.35.4-h9835d80_0\n",
      "  tk                      conda-forge::tk-8.6.10-hf7e6567_1 --> pkgs/main::tk-8.6.10-h6b60437_0\n",
      "  tzdata               conda-forge::tzdata-2021a-he74cb21_1 --> pkgs/main::tzdata-2021a-h52ac0ba_0\n",
      "  wheel              conda-forge::wheel-0.36.2-pyhd3deb0d_0 --> pkgs/main::wheel-0.36.2-pyhd3eb1b0_0\n",
      "  xz                       conda-forge::xz-5.2.5-h642e427_1 --> pkgs/main::xz-5.2.4-h1230e6a_0\n",
      "  yaml                   conda-forge::yaml-0.2.5-h642e427_0 --> pkgs/main::yaml-0.2.5-h1230e6a_0\n",
      "  zlib               conda-forge::zlib-1.2.11-h31e879b_1009 --> pkgs/main::zlib-1.2.11-hca03da5_3\n",
      "\n",
      "\n",
      "\n",
      "Downloading and Extracting Packages\n",
      "xz-5.2.4             | 266 KB    | ##################################### | 100% \n",
      "readline-8.1         | 411 KB    | ##################################### | 100% \n",
      "libiconv-1.16        | 1.4 MB    | ##################################### | 100% \n",
      "openssl-1.1.1j       | 3.3 MB    | ##################################### | 100% \n",
      "ncurses-6.2          | 952 KB    | ##################################### | 100% \n",
      "libffi-3.3           | 33 KB     | ##################################### | 100% \n",
      "certifi-2020.12.5    | 142 KB    | ##################################### | 100% \n",
      "idna-2.10            | 52 KB     | ##################################### | 100% \n",
      "zlib-1.2.11          | 95 KB     | ##################################### | 100% \n",
      "pyopenssl-20.0.1     | 49 KB     | ##################################### | 100% \n",
      "tk-8.6.10            | 3.2 MB    | ##################################### | 100% \n",
      "cffi-1.14.5          | 218 KB    | ##################################### | 100% \n",
      "setuptools-52.0.0    | 930 KB    | ##################################### | 100% \n",
      "ca-certificates-2021 | 119 KB    | ##################################### | 100% \n",
      "tzdata-2021a         | 108 KB    | ##################################### | 100% \n",
      "pycosat-0.6.3        | 107 KB    | ##################################### | 100% \n",
      "python-3.9.6         | 11.9 MB   | ##################################### | 100% \n",
      "tqdm-4.62.0          | 83 KB     | ##################################### | 100% \n",
      "cryptography-3.4.7   | 808 KB    | ##################################### | 100% \n",
      "wheel-0.36.2         | 33 KB     | ##################################### | 100% \n",
      "pycparser-2.20       | 94 KB     | ##################################### | 100% \n",
      "urllib3-1.26.6       | 112 KB    | ##################################### | 100% \n",
      "brotlipy-0.7.0       | 344 KB    | ##################################### | 100% \n",
      "expat-2.3.0          | 132 KB    | ##################################### | 100% \n"
     ]
    },
    {
     "name": "stdout",
     "output_type": "stream",
     "text": [
      "ruamel_yaml-0.15.100 | 245 KB    | ##################################### | 100% \n",
      "six-1.16.0           | 18 KB     | ##################################### | 100% \n",
      "sqlite-3.35.4        | 1.6 MB    | ##################################### | 100% \n",
      "yaml-0.2.5           | 85 KB     | ##################################### | 100% \n",
      "chardet-4.0.0        | 203 KB    | ##################################### | 100% \n",
      "libcxx-12.0.0        | 1.0 MB    | ##################################### | 100% \n",
      "conda-package-handli | 1.6 MB    | ##################################### | 100% \n",
      "requests-2.25.1      | 52 KB     | ##################################### | 100% \n",
      "pysocks-1.7.1        | 27 KB     | ##################################### | 100% \n",
      "Preparing transaction: done\n",
      "Verifying transaction: | ^C\n",
      "failed\n",
      "\n",
      "CondaError: KeyboardInterrupt\n",
      "\n",
      "\n",
      "Note: you may need to restart the kernel to use updated packages.\n"
     ]
    }
   ],
   "source": [
    "#conda update -n base conda"
   ]
  },
  {
   "cell_type": "code",
   "execution_count": 6,
   "metadata": {
    "execution": {
     "iopub.execute_input": "2021-07-23T22:35:23.397331Z",
     "iopub.status.busy": "2021-07-23T22:35:23.396912Z",
     "iopub.status.idle": "2021-07-23T22:36:01.453499Z",
     "shell.execute_reply": "2021-07-23T22:36:01.452600Z",
     "shell.execute_reply.started": "2021-07-23T22:35:23.397292Z"
    }
   },
   "outputs": [
    {
     "name": "stdout",
     "output_type": "stream",
     "text": [
      "Collecting package metadata (current_repodata.json): done\n",
      "Solving environment: failed with initial frozen solve. Retrying with flexible solve.\n",
      "Collecting package metadata (repodata.json): done\n",
      "Solving environment: failed with initial frozen solve. Retrying with flexible solve.\n",
      "\n",
      "PackagesNotFoundError: The following packages are not available from current channels:\n",
      "\n",
      "  - gdcm\n",
      "\n",
      "Current channels:\n",
      "\n",
      "  - https://conda.anaconda.org/conda-forge/osx-arm64\n",
      "  - https://conda.anaconda.org/conda-forge/noarch\n",
      "  - https://repo.anaconda.com/pkgs/main/osx-arm64\n",
      "  - https://repo.anaconda.com/pkgs/main/noarch\n",
      "  - https://repo.anaconda.com/pkgs/r/osx-arm64\n",
      "  - https://repo.anaconda.com/pkgs/r/noarch\n",
      "\n",
      "To search for alternate channels that may provide the conda package you're\n",
      "looking for, navigate to\n",
      "\n",
      "    https://anaconda.org\n",
      "\n",
      "and use the search bar at the top of the page.\n",
      "\n",
      "\n"
     ]
    }
   ],
   "source": [
    "#!conda install gdcm -c conda-forge -y"
   ]
  },
  {
   "cell_type": "code",
   "execution_count": 7,
   "metadata": {
    "execution": {
     "iopub.execute_input": "2021-07-23T22:37:06.636811Z",
     "iopub.status.busy": "2021-07-23T22:37:06.636165Z",
     "iopub.status.idle": "2021-07-23T22:37:06.652441Z",
     "shell.execute_reply": "2021-07-23T22:37:06.651496Z",
     "shell.execute_reply.started": "2021-07-23T22:37:06.636757Z"
    }
   },
   "outputs": [
    {
     "ename": "ModuleNotFoundError",
     "evalue": "No module named 'keras'",
     "output_type": "error",
     "traceback": [
      "\u001b[0;31m---------------------------------------------------------------------------\u001b[0m",
      "\u001b[0;31mModuleNotFoundError\u001b[0m                       Traceback (most recent call last)",
      "\u001b[0;32m/var/folders/g2/pzsp3v213pj9s0b3l3qzwwgm0000gn/T/ipykernel_47512/580909237.py\u001b[0m in \u001b[0;36m<module>\u001b[0;34m\u001b[0m\n\u001b[1;32m      4\u001b[0m \u001b[0;32mfrom\u001b[0m \u001b[0mpandas\u001b[0m \u001b[0;32mimport\u001b[0m \u001b[0mDataFrame\u001b[0m\u001b[0;34m\u001b[0m\u001b[0;34m\u001b[0m\u001b[0m\n\u001b[1;32m      5\u001b[0m \u001b[0;32mfrom\u001b[0m \u001b[0mtensorflow\u001b[0m \u001b[0;32mimport\u001b[0m \u001b[0mkeras\u001b[0m\u001b[0;34m\u001b[0m\u001b[0;34m\u001b[0m\u001b[0m\n\u001b[0;32m----> 6\u001b[0;31m \u001b[0;32mfrom\u001b[0m \u001b[0mkeras\u001b[0m \u001b[0;32mimport\u001b[0m \u001b[0mbackend\u001b[0m \u001b[0;32mas\u001b[0m \u001b[0mK\u001b[0m\u001b[0;34m\u001b[0m\u001b[0;34m\u001b[0m\u001b[0m\n\u001b[0m\u001b[1;32m      7\u001b[0m \u001b[0;32mfrom\u001b[0m \u001b[0mtensorflow\u001b[0m\u001b[0;34m.\u001b[0m\u001b[0mkeras\u001b[0m\u001b[0;34m.\u001b[0m\u001b[0mmodels\u001b[0m \u001b[0;32mimport\u001b[0m \u001b[0mSequential\u001b[0m\u001b[0;34m\u001b[0m\u001b[0;34m\u001b[0m\u001b[0m\n\u001b[1;32m      8\u001b[0m \u001b[0;32mfrom\u001b[0m \u001b[0mtensorflow\u001b[0m\u001b[0;34m.\u001b[0m\u001b[0mkeras\u001b[0m \u001b[0;32mimport\u001b[0m \u001b[0mlayers\u001b[0m\u001b[0;34m\u001b[0m\u001b[0;34m\u001b[0m\u001b[0m\n",
      "\u001b[0;31mModuleNotFoundError\u001b[0m: No module named 'keras'"
     ]
    }
   ],
   "source": [
    "import tensorflow as tf\n",
    "import numpy as np\n",
    "import pandas as pd\n",
    "from pandas import DataFrame\n",
    "from tensorflow import keras\n",
    "from keras import backend as K\n",
    "from tensorflow.keras.models import Sequential\n",
    "from tensorflow.keras import layers\n",
    "from tensorflow.keras.layers import Activation, Dense, Flatten, BatchNormalization, Conv2D, MaxPooling2D, Dropout\n",
    "from tensorflow.keras.layers import Input\n",
    "from tensorflow.keras.optimizers import Adam, SGD, RMSprop\n",
    "from tensorflow.keras.metrics import categorical_crossentropy\n",
    "from tensorflow.keras.preprocessing.image import ImageDataGenerator\n",
    "from sklearn.metrics import confusion_matrix\n",
    "import plotly.io as pio\n",
    "import itertools\n",
    "import os\n",
    "import shutil\n",
    "import random\n",
    "import glob\n",
    "from tqdm.notebook import tqdm\n",
    "import matplotlib.pyplot as plt\n",
    "import cv2\n",
    "import plotly_express as px\n",
    "\n",
    "import os\n",
    "\n",
    "from PIL import Image\n",
    "import pandas as pd\n",
    "from tqdm.auto import tqdm\n",
    "import pydicom\n",
    "from pydicom.pixel_data_handlers.util import apply_voi_lut\n",
    "\n",
    "\n",
    "\n",
    "#from pydicom import dcmread\n",
    "\n",
    "from sklearn.metrics import roc_curve, auc, roc_auc_score, accuracy_score, average_precision_score, classification_report, confusion_matrix, plot_confusion_matrix\n",
    "from sklearn.model_selection import train_test_split\n",
    "\n",
    "import warnings\n",
    "warnings.simplefilter(action='ignore', category=FutureWarning)\n",
    "%matplotlib inline"
   ]
  },
  {
   "cell_type": "code",
   "execution_count": null,
   "metadata": {
    "execution": {
     "iopub.execute_input": "2021-07-23T22:37:06.653998Z",
     "iopub.status.busy": "2021-07-23T22:37:06.653645Z",
     "iopub.status.idle": "2021-07-23T22:37:06.666620Z",
     "shell.execute_reply": "2021-07-23T22:37:06.665658Z",
     "shell.execute_reply.started": "2021-07-23T22:37:06.653962Z"
    }
   },
   "outputs": [],
   "source": [
    "import gc\n",
    "from colorama import Fore, Back, Style\n",
    "\n",
    "y_ = Fore.YELLOW\n",
    "r_ = Fore.RED\n",
    "g_ = Fore.GREEN\n",
    "b_ = Fore.BLUE\n",
    "m_ = Fore.MAGENTA\n",
    "c_ = Fore.CYAN\n",
    "res = Style.RESET_ALL\n"
   ]
  },
  {
   "cell_type": "markdown",
   "metadata": {},
   "source": [
    "### Assigning path to csv datasets and create dataframes for the image and study level data. We will further visualize the data as Dataframes."
   ]
  },
  {
   "cell_type": "code",
   "execution_count": 21,
   "metadata": {
    "execution": {
     "iopub.execute_input": "2021-07-23T22:48:08.377027Z",
     "iopub.status.busy": "2021-07-23T22:48:08.376698Z",
     "iopub.status.idle": "2021-07-23T22:48:08.417951Z",
     "shell.execute_reply": "2021-07-23T22:48:08.417008Z",
     "shell.execute_reply.started": "2021-07-23T22:48:08.376997Z"
    }
   },
   "outputs": [
    {
     "name": "stdout",
     "output_type": "stream",
     "text": [
      "\u001b[33mTrain image level csv shape : (6334, 4)\u001b[0m\n",
      "\u001b[32mTrain study level csv shape : (6054, 5)\u001b[0m\n"
     ]
    }
   ],
   "source": [
    "PATH = '/kaggle/input/siim-covid19-detection/'\n",
    "image_df = pd.read_csv('/kaggle/input/datafiles/train_image_level.csv', index_col=None)\n",
    "study_df = pd.read_csv('/kaggle/input/datafiles/train_study_level.csv', index_col=None)\n",
    "pd.set_option('display.max_columns', None)  \n",
    "pd.set_option('display.max_colwidth', None)\n",
    "print(f\"{y_}Train image level csv shape : {image_df.shape}{res}\\n{g_}Train study level csv shape : {study_df.shape}{res}\")"
   ]
  },
  {
   "cell_type": "code",
   "execution_count": 22,
   "metadata": {
    "execution": {
     "iopub.execute_input": "2021-07-23T22:48:09.029125Z",
     "iopub.status.busy": "2021-07-23T22:48:09.028735Z",
     "iopub.status.idle": "2021-07-23T22:48:09.045864Z",
     "shell.execute_reply": "2021-07-23T22:48:09.044837Z",
     "shell.execute_reply.started": "2021-07-23T22:48:09.029097Z"
    }
   },
   "outputs": [
    {
     "data": {
      "text/html": [
       "<div>\n",
       "<style scoped>\n",
       "    .dataframe tbody tr th:only-of-type {\n",
       "        vertical-align: middle;\n",
       "    }\n",
       "\n",
       "    .dataframe tbody tr th {\n",
       "        vertical-align: top;\n",
       "    }\n",
       "\n",
       "    .dataframe thead th {\n",
       "        text-align: right;\n",
       "    }\n",
       "</style>\n",
       "<table border=\"1\" class=\"dataframe\">\n",
       "  <thead>\n",
       "    <tr style=\"text-align: right;\">\n",
       "      <th></th>\n",
       "      <th>id</th>\n",
       "      <th>Negative for Pneumonia</th>\n",
       "      <th>Typical Appearance</th>\n",
       "      <th>Indeterminate Appearance</th>\n",
       "      <th>Atypical Appearance</th>\n",
       "    </tr>\n",
       "  </thead>\n",
       "  <tbody>\n",
       "    <tr>\n",
       "      <th>0</th>\n",
       "      <td>00086460a852_study</td>\n",
       "      <td>0</td>\n",
       "      <td>1</td>\n",
       "      <td>0</td>\n",
       "      <td>0</td>\n",
       "    </tr>\n",
       "    <tr>\n",
       "      <th>1</th>\n",
       "      <td>000c9c05fd14_study</td>\n",
       "      <td>0</td>\n",
       "      <td>0</td>\n",
       "      <td>0</td>\n",
       "      <td>1</td>\n",
       "    </tr>\n",
       "    <tr>\n",
       "      <th>2</th>\n",
       "      <td>00292f8c37bd_study</td>\n",
       "      <td>1</td>\n",
       "      <td>0</td>\n",
       "      <td>0</td>\n",
       "      <td>0</td>\n",
       "    </tr>\n",
       "    <tr>\n",
       "      <th>3</th>\n",
       "      <td>005057b3f880_study</td>\n",
       "      <td>1</td>\n",
       "      <td>0</td>\n",
       "      <td>0</td>\n",
       "      <td>0</td>\n",
       "    </tr>\n",
       "    <tr>\n",
       "      <th>4</th>\n",
       "      <td>0051d9b12e72_study</td>\n",
       "      <td>0</td>\n",
       "      <td>0</td>\n",
       "      <td>0</td>\n",
       "      <td>1</td>\n",
       "    </tr>\n",
       "    <tr>\n",
       "      <th>...</th>\n",
       "      <td>...</td>\n",
       "      <td>...</td>\n",
       "      <td>...</td>\n",
       "      <td>...</td>\n",
       "      <td>...</td>\n",
       "    </tr>\n",
       "    <tr>\n",
       "      <th>6049</th>\n",
       "      <td>ffcb4630f46f_study</td>\n",
       "      <td>0</td>\n",
       "      <td>1</td>\n",
       "      <td>0</td>\n",
       "      <td>0</td>\n",
       "    </tr>\n",
       "    <tr>\n",
       "      <th>6050</th>\n",
       "      <td>ffe4d6e8fbb0_study</td>\n",
       "      <td>0</td>\n",
       "      <td>1</td>\n",
       "      <td>0</td>\n",
       "      <td>0</td>\n",
       "    </tr>\n",
       "    <tr>\n",
       "      <th>6051</th>\n",
       "      <td>ffe94fcb14fa_study</td>\n",
       "      <td>0</td>\n",
       "      <td>1</td>\n",
       "      <td>0</td>\n",
       "      <td>0</td>\n",
       "    </tr>\n",
       "    <tr>\n",
       "      <th>6052</th>\n",
       "      <td>ffebf1ef4a9c_study</td>\n",
       "      <td>0</td>\n",
       "      <td>1</td>\n",
       "      <td>0</td>\n",
       "      <td>0</td>\n",
       "    </tr>\n",
       "    <tr>\n",
       "      <th>6053</th>\n",
       "      <td>fff649d65f62_study</td>\n",
       "      <td>0</td>\n",
       "      <td>1</td>\n",
       "      <td>0</td>\n",
       "      <td>0</td>\n",
       "    </tr>\n",
       "  </tbody>\n",
       "</table>\n",
       "<p>6054 rows × 5 columns</p>\n",
       "</div>"
      ],
      "text/plain": [
       "                      id  Negative for Pneumonia  Typical Appearance  \\\n",
       "0     00086460a852_study                       0                   1   \n",
       "1     000c9c05fd14_study                       0                   0   \n",
       "2     00292f8c37bd_study                       1                   0   \n",
       "3     005057b3f880_study                       1                   0   \n",
       "4     0051d9b12e72_study                       0                   0   \n",
       "...                  ...                     ...                 ...   \n",
       "6049  ffcb4630f46f_study                       0                   1   \n",
       "6050  ffe4d6e8fbb0_study                       0                   1   \n",
       "6051  ffe94fcb14fa_study                       0                   1   \n",
       "6052  ffebf1ef4a9c_study                       0                   1   \n",
       "6053  fff649d65f62_study                       0                   1   \n",
       "\n",
       "      Indeterminate Appearance  Atypical Appearance  \n",
       "0                            0                    0  \n",
       "1                            0                    1  \n",
       "2                            0                    0  \n",
       "3                            0                    0  \n",
       "4                            0                    1  \n",
       "...                        ...                  ...  \n",
       "6049                         0                    0  \n",
       "6050                         0                    0  \n",
       "6051                         0                    0  \n",
       "6052                         0                    0  \n",
       "6053                         0                    0  \n",
       "\n",
       "[6054 rows x 5 columns]"
      ]
     },
     "execution_count": 22,
     "metadata": {},
     "output_type": "execute_result"
    }
   ],
   "source": [
    "#Lets see the study level data\n",
    "study_df"
   ]
  },
  {
   "cell_type": "markdown",
   "metadata": {},
   "source": [
    "As expected, we have a classification dataset with multiple classes to work with. Lets see what the image level data looks like. "
   ]
  },
  {
   "cell_type": "code",
   "execution_count": 23,
   "metadata": {
    "execution": {
     "iopub.execute_input": "2021-07-23T22:48:10.444767Z",
     "iopub.status.busy": "2021-07-23T22:48:10.444440Z",
     "iopub.status.idle": "2021-07-23T22:48:10.458872Z",
     "shell.execute_reply": "2021-07-23T22:48:10.457720Z",
     "shell.execute_reply.started": "2021-07-23T22:48:10.444740Z"
    }
   },
   "outputs": [
    {
     "data": {
      "text/html": [
       "<div>\n",
       "<style scoped>\n",
       "    .dataframe tbody tr th:only-of-type {\n",
       "        vertical-align: middle;\n",
       "    }\n",
       "\n",
       "    .dataframe tbody tr th {\n",
       "        vertical-align: top;\n",
       "    }\n",
       "\n",
       "    .dataframe thead th {\n",
       "        text-align: right;\n",
       "    }\n",
       "</style>\n",
       "<table border=\"1\" class=\"dataframe\">\n",
       "  <thead>\n",
       "    <tr style=\"text-align: right;\">\n",
       "      <th></th>\n",
       "      <th>id</th>\n",
       "      <th>boxes</th>\n",
       "      <th>label</th>\n",
       "      <th>StudyInstanceUID</th>\n",
       "    </tr>\n",
       "  </thead>\n",
       "  <tbody>\n",
       "    <tr>\n",
       "      <th>0</th>\n",
       "      <td>000a312787f2_image</td>\n",
       "      <td>[{'x': 789.28836, 'y': 582.43035, 'width': 1026.65662, 'height': 1917.30292}, {'x': 2245.91208, 'y': 591.20528, 'width': 1094.66162, 'height': 1761.54944}]</td>\n",
       "      <td>opacity 1 789.28836 582.43035 1815.94498 2499.73327 opacity 1 2245.91208 591.20528 3340.5737 2352.75472</td>\n",
       "      <td>5776db0cec75</td>\n",
       "    </tr>\n",
       "    <tr>\n",
       "      <th>1</th>\n",
       "      <td>000c3a3f293f_image</td>\n",
       "      <td>NaN</td>\n",
       "      <td>none 1 0 0 1 1</td>\n",
       "      <td>ff0879eb20ed</td>\n",
       "    </tr>\n",
       "    <tr>\n",
       "      <th>2</th>\n",
       "      <td>0012ff7358bc_image</td>\n",
       "      <td>[{'x': 677.42216, 'y': 197.97662, 'width': 867.79767, 'height': 999.78214}, {'x': 1792.69064, 'y': 402.5525, 'width': 617.02734, 'height': 1204.358}]</td>\n",
       "      <td>opacity 1 677.42216 197.97662 1545.21983 1197.75876 opacity 1 1792.69064 402.5525 2409.71798 1606.9105</td>\n",
       "      <td>9d514ce429a7</td>\n",
       "    </tr>\n",
       "    <tr>\n",
       "      <th>3</th>\n",
       "      <td>001398f4ff4f_image</td>\n",
       "      <td>[{'x': 2729, 'y': 2181.33331, 'width': 948.00012, 'height': 604}]</td>\n",
       "      <td>opacity 1 2729 2181.33331 3677.00012 2785.33331</td>\n",
       "      <td>28dddc8559b2</td>\n",
       "    </tr>\n",
       "    <tr>\n",
       "      <th>4</th>\n",
       "      <td>001bd15d1891_image</td>\n",
       "      <td>[{'x': 623.23328, 'y': 1050, 'width': 714, 'height': 1106}, {'x': 2578.56661, 'y': 998.66667, 'width': 662.66667, 'height': 1120}]</td>\n",
       "      <td>opacity 1 623.23328 1050 1337.23328 2156 opacity 1 2578.56661 998.66667 3241.23328 2118.66667</td>\n",
       "      <td>dfd9fdd85a3e</td>\n",
       "    </tr>\n",
       "    <tr>\n",
       "      <th>...</th>\n",
       "      <td>...</td>\n",
       "      <td>...</td>\n",
       "      <td>...</td>\n",
       "      <td>...</td>\n",
       "    </tr>\n",
       "    <tr>\n",
       "      <th>6329</th>\n",
       "      <td>ffcc6edd9445_image</td>\n",
       "      <td>NaN</td>\n",
       "      <td>none 1 0 0 1 1</td>\n",
       "      <td>7e6c68462e06</td>\n",
       "    </tr>\n",
       "    <tr>\n",
       "      <th>6330</th>\n",
       "      <td>ffd91a2c4ca0_image</td>\n",
       "      <td>NaN</td>\n",
       "      <td>none 1 0 0 1 1</td>\n",
       "      <td>8332bdaddb6e</td>\n",
       "    </tr>\n",
       "    <tr>\n",
       "      <th>6331</th>\n",
       "      <td>ffd9b6cf2961_image</td>\n",
       "      <td>[{'x': 2197.38566, 'y': 841.07361, 'width': 316.41699, 'height': 451.63758}, {'x': 2375.87717, 'y': 1830.89015, 'width': 267.7373, 'height': 305.59912}, {'x': 707.25199, 'y': 722.07926, 'width': 392.14044, 'height': 849.18683}]</td>\n",
       "      <td>opacity 1 2197.38566 841.07361 2513.80265 1292.71119 opacity 1 2375.87717 1830.89015 2643.6144700000004 2136.48927 opacity 1 707.25199 722.07926 1099.3924299999999 1571.26609</td>\n",
       "      <td>7eed9af03814</td>\n",
       "    </tr>\n",
       "    <tr>\n",
       "      <th>6332</th>\n",
       "      <td>ffdc682f7680_image</td>\n",
       "      <td>[{'x': 2729.27083, 'y': 332.26044, 'width': 1496.25016, 'height': 2604.58334}, {'x': 1005.8125, 'y': 1584.67711, 'width': 662.22913, 'height': 775.83337}]</td>\n",
       "      <td>opacity 1 2729.27083 332.26044 4225.52099 2936.84378 opacity 1 1005.8125 1584.67711 1668.0416300000002 2360.51048</td>\n",
       "      <td>a0cb0b96fb3d</td>\n",
       "    </tr>\n",
       "    <tr>\n",
       "      <th>6333</th>\n",
       "      <td>ffe942c8655f_image</td>\n",
       "      <td>[{'x': 208.86463, 'y': 91.53448, 'width': 450.96747, 'height': 628.05473}, {'x': 755.52522, 'y': 144.33069, 'width': 427.8692, 'height': 547.7605}]</td>\n",
       "      <td>opacity 1 208.86463 91.53448 659.8321 719.58921 opacity 1 755.52522 144.33069 1183.39442 692.09119</td>\n",
       "      <td>7d82d53204b8</td>\n",
       "    </tr>\n",
       "  </tbody>\n",
       "</table>\n",
       "<p>6334 rows × 4 columns</p>\n",
       "</div>"
      ],
      "text/plain": [
       "                      id  \\\n",
       "0     000a312787f2_image   \n",
       "1     000c3a3f293f_image   \n",
       "2     0012ff7358bc_image   \n",
       "3     001398f4ff4f_image   \n",
       "4     001bd15d1891_image   \n",
       "...                  ...   \n",
       "6329  ffcc6edd9445_image   \n",
       "6330  ffd91a2c4ca0_image   \n",
       "6331  ffd9b6cf2961_image   \n",
       "6332  ffdc682f7680_image   \n",
       "6333  ffe942c8655f_image   \n",
       "\n",
       "                                                                                                                                                                                                                                    boxes  \\\n",
       "0                                                                             [{'x': 789.28836, 'y': 582.43035, 'width': 1026.65662, 'height': 1917.30292}, {'x': 2245.91208, 'y': 591.20528, 'width': 1094.66162, 'height': 1761.54944}]   \n",
       "1                                                                                                                                                                                                                                     NaN   \n",
       "2                                                                                   [{'x': 677.42216, 'y': 197.97662, 'width': 867.79767, 'height': 999.78214}, {'x': 1792.69064, 'y': 402.5525, 'width': 617.02734, 'height': 1204.358}]   \n",
       "3                                                                                                                                                                       [{'x': 2729, 'y': 2181.33331, 'width': 948.00012, 'height': 604}]   \n",
       "4                                                                                                      [{'x': 623.23328, 'y': 1050, 'width': 714, 'height': 1106}, {'x': 2578.56661, 'y': 998.66667, 'width': 662.66667, 'height': 1120}]   \n",
       "...                                                                                                                                                                                                                                   ...   \n",
       "6329                                                                                                                                                                                                                                  NaN   \n",
       "6330                                                                                                                                                                                                                                  NaN   \n",
       "6331  [{'x': 2197.38566, 'y': 841.07361, 'width': 316.41699, 'height': 451.63758}, {'x': 2375.87717, 'y': 1830.89015, 'width': 267.7373, 'height': 305.59912}, {'x': 707.25199, 'y': 722.07926, 'width': 392.14044, 'height': 849.18683}]   \n",
       "6332                                                                           [{'x': 2729.27083, 'y': 332.26044, 'width': 1496.25016, 'height': 2604.58334}, {'x': 1005.8125, 'y': 1584.67711, 'width': 662.22913, 'height': 775.83337}]   \n",
       "6333                                                                                  [{'x': 208.86463, 'y': 91.53448, 'width': 450.96747, 'height': 628.05473}, {'x': 755.52522, 'y': 144.33069, 'width': 427.8692, 'height': 547.7605}]   \n",
       "\n",
       "                                                                                                                                                                               label  \\\n",
       "0                                                                            opacity 1 789.28836 582.43035 1815.94498 2499.73327 opacity 1 2245.91208 591.20528 3340.5737 2352.75472   \n",
       "1                                                                                                                                                                     none 1 0 0 1 1   \n",
       "2                                                                             opacity 1 677.42216 197.97662 1545.21983 1197.75876 opacity 1 1792.69064 402.5525 2409.71798 1606.9105   \n",
       "3                                                                                                                                    opacity 1 2729 2181.33331 3677.00012 2785.33331   \n",
       "4                                                                                      opacity 1 623.23328 1050 1337.23328 2156 opacity 1 2578.56661 998.66667 3241.23328 2118.66667   \n",
       "...                                                                                                                                                                              ...   \n",
       "6329                                                                                                                                                                  none 1 0 0 1 1   \n",
       "6330                                                                                                                                                                  none 1 0 0 1 1   \n",
       "6331  opacity 1 2197.38566 841.07361 2513.80265 1292.71119 opacity 1 2375.87717 1830.89015 2643.6144700000004 2136.48927 opacity 1 707.25199 722.07926 1099.3924299999999 1571.26609   \n",
       "6332                                                               opacity 1 2729.27083 332.26044 4225.52099 2936.84378 opacity 1 1005.8125 1584.67711 1668.0416300000002 2360.51048   \n",
       "6333                                                                              opacity 1 208.86463 91.53448 659.8321 719.58921 opacity 1 755.52522 144.33069 1183.39442 692.09119   \n",
       "\n",
       "     StudyInstanceUID  \n",
       "0        5776db0cec75  \n",
       "1        ff0879eb20ed  \n",
       "2        9d514ce429a7  \n",
       "3        28dddc8559b2  \n",
       "4        dfd9fdd85a3e  \n",
       "...               ...  \n",
       "6329     7e6c68462e06  \n",
       "6330     8332bdaddb6e  \n",
       "6331     7eed9af03814  \n",
       "6332     a0cb0b96fb3d  \n",
       "6333     7d82d53204b8  \n",
       "\n",
       "[6334 rows x 4 columns]"
      ]
     },
     "execution_count": 23,
     "metadata": {},
     "output_type": "execute_result"
    }
   ],
   "source": [
    "image_df"
   ]
  },
  {
   "cell_type": "markdown",
   "metadata": {},
   "source": [
    "The Image level Data is mostly has information related to the bounding boxes and labels associated with the conditions. Even though we decided to restrict ourselves from the Localization part of this competition, we will at least visualize how this image data looks like. "
   ]
  },
  {
   "cell_type": "code",
   "execution_count": 4,
   "metadata": {
    "execution": {
     "iopub.execute_input": "2021-07-23T22:48:11.370508Z",
     "iopub.status.busy": "2021-07-23T22:48:11.370166Z",
     "iopub.status.idle": "2021-07-23T22:48:11.401229Z",
     "shell.execute_reply": "2021-07-23T22:48:11.400505Z",
     "shell.execute_reply.started": "2021-07-23T22:48:11.370477Z"
    }
   },
   "outputs": [
    {
     "ename": "NameError",
     "evalue": "name 'pd' is not defined",
     "output_type": "error",
     "traceback": [
      "\u001b[0;31m---------------------------------------------------------------------------\u001b[0m",
      "\u001b[0;31mNameError\u001b[0m                                 Traceback (most recent call last)",
      "\u001b[0;32m/var/folders/g2/pzsp3v213pj9s0b3l3qzwwgm0000gn/T/ipykernel_47512/38584213.py\u001b[0m in \u001b[0;36m<module>\u001b[0;34m\u001b[0m\n\u001b[1;32m      1\u001b[0m \u001b[0;31m#Now lets check how our Image dataset is distributed across the 4 labels.\u001b[0m\u001b[0;34m\u001b[0m\u001b[0;34m\u001b[0m\u001b[0;34m\u001b[0m\u001b[0m\n\u001b[1;32m      2\u001b[0m \u001b[0;31m#Creating a pivot table\u001b[0m\u001b[0;34m\u001b[0m\u001b[0;34m\u001b[0m\u001b[0;34m\u001b[0m\u001b[0m\n\u001b[0;32m----> 3\u001b[0;31m study_grp = pd.melt(study_df, id_vars=list(study_df.columns)[:1], value_vars=list(study_df.columns)[1:],\n\u001b[0m\u001b[1;32m      4\u001b[0m              var_name='label', value_name='value')\n\u001b[1;32m      5\u001b[0m \u001b[0mstudy_grp\u001b[0m \u001b[0;34m=\u001b[0m \u001b[0mstudy_grp\u001b[0m\u001b[0;34m.\u001b[0m\u001b[0mloc\u001b[0m\u001b[0;34m[\u001b[0m\u001b[0mstudy_grp\u001b[0m\u001b[0;34m[\u001b[0m\u001b[0;34m'value'\u001b[0m\u001b[0;34m]\u001b[0m\u001b[0;34m!=\u001b[0m\u001b[0;36m0\u001b[0m\u001b[0;34m]\u001b[0m\u001b[0;34m\u001b[0m\u001b[0;34m\u001b[0m\u001b[0m\n",
      "\u001b[0;31mNameError\u001b[0m: name 'pd' is not defined"
     ]
    }
   ],
   "source": [
    "#Now lets check how our Image dataset is distributed across the 4 labels. \n",
    "#Creating a pivot table\n",
    "study_grp = pd.melt(study_df, id_vars=list(study_df.columns)[:1], value_vars=list(study_df.columns)[1:],\n",
    "             var_name='label', value_name='value')\n",
    "study_grp = study_grp.loc[study_grp['value']!=0]\n",
    "\n",
    "#Assigning Random selection of Colors to each label.\n",
    "colors = {'Typical Appearance' : '#DCD427',\n",
    "'Negative for Pneumonia' : '#0092CC',\n",
    "'Indeterminate Appearance' : '#CC3333',\n",
    "          'Atypical Appearance' : '#E6E6E6'\n",
    "         }\n",
    "study_grp = study_grp.groupby('label').sum().sort_values('value',ascending=False).reset_index()\n",
    "study_grp['color'] = study_grp['label'].apply(lambda x: colors[x])\n",
    "study_grp"
   ]
  },
  {
   "cell_type": "code",
   "execution_count": 2,
   "metadata": {
    "execution": {
     "iopub.execute_input": "2021-07-23T22:48:12.136048Z",
     "iopub.status.busy": "2021-07-23T22:48:12.135732Z",
     "iopub.status.idle": "2021-07-23T22:48:12.143453Z",
     "shell.execute_reply": "2021-07-23T22:48:12.142287Z",
     "shell.execute_reply.started": "2021-07-23T22:48:12.136019Z"
    }
   },
   "outputs": [],
   "source": [
    "#Credit: https://www.kaggle.com/rajsengo \n",
    "#Creating a function to visualize Data for each label. \n",
    "def plot_study_label(df):\n",
    "    pio.templates.default = \"plotly_dark\"\n",
    "    fig = px.bar(df, x='label', y='value',\n",
    "             hover_data=['label', 'value'], color='label',\n",
    "             #labels={column: label},\n",
    "             color_discrete_map=colors,\n",
    "             text='value')\n",
    "    fig.update_layout(xaxis={'categoryorder':'array', 'categoryarray': df['label'],\n",
    "                             'title' : None, \n",
    "                             'showgrid':False},\n",
    "                      yaxis={'showgrid':False,\n",
    "                            'title' : 'Count'},\n",
    "                      showlegend=False,\n",
    "                     title = 'Study samples in train data')\n",
    "    fig.update_traces(textfont_size=16)\n",
    "    fig.show()"
   ]
  },
  {
   "cell_type": "code",
   "execution_count": 3,
   "metadata": {
    "execution": {
     "iopub.execute_input": "2021-07-23T22:48:13.054411Z",
     "iopub.status.busy": "2021-07-23T22:48:13.054082Z",
     "iopub.status.idle": "2021-07-23T22:48:13.151083Z",
     "shell.execute_reply": "2021-07-23T22:48:13.149178Z",
     "shell.execute_reply.started": "2021-07-23T22:48:13.054381Z"
    }
   },
   "outputs": [
    {
     "ename": "NameError",
     "evalue": "name 'study_grp' is not defined",
     "output_type": "error",
     "traceback": [
      "\u001b[0;31m---------------------------------------------------------------------------\u001b[0m",
      "\u001b[0;31mNameError\u001b[0m                                 Traceback (most recent call last)",
      "\u001b[0;32m/var/folders/g2/pzsp3v213pj9s0b3l3qzwwgm0000gn/T/ipykernel_47512/115310082.py\u001b[0m in \u001b[0;36m<module>\u001b[0;34m\u001b[0m\n\u001b[0;32m----> 1\u001b[0;31m \u001b[0mplot_study_label\u001b[0m\u001b[0;34m(\u001b[0m\u001b[0mstudy_grp\u001b[0m\u001b[0;34m)\u001b[0m\u001b[0;34m\u001b[0m\u001b[0;34m\u001b[0m\u001b[0m\n\u001b[0m",
      "\u001b[0;31mNameError\u001b[0m: name 'study_grp' is not defined"
     ]
    }
   ],
   "source": [
    "plot_study_label(study_grp)"
   ]
  },
  {
   "cell_type": "markdown",
   "metadata": {},
   "source": [
    "## VISUALIZE AND PROCESS DICOM IMAGE\n",
    "### Overview (Ref: https://www.dicomstandard.org)\n",
    "DICOM - Digital Imaging and Communication in Medicine is a standard format for encoding and transmitting medical images. This format stores image metadata like patient information, image acquistion parameters, image size, pixel size, etc along with the actual image. The image metadata is stored in the DICOM header. The image pixel data may be compressed using various techniques like JPEG, lossless JPEG, run length encoding (RLE), etc. Let's load a sample image to look at its header (metadata) and the actual pixel_array."
   ]
  },
  {
   "cell_type": "code",
   "execution_count": 27,
   "metadata": {
    "execution": {
     "iopub.execute_input": "2021-07-23T22:48:16.224838Z",
     "iopub.status.busy": "2021-07-23T22:48:16.224510Z",
     "iopub.status.idle": "2021-07-23T22:48:16.761867Z",
     "shell.execute_reply": "2021-07-23T22:48:16.760942Z",
     "shell.execute_reply.started": "2021-07-23T22:48:16.224808Z"
    }
   },
   "outputs": [],
   "source": [
    "from pydicom import dcmread, read_file\n",
    "from pydicom.data import get_testdata_file\n",
    "file_path = PATH+\"train/00086460a852/9e8302230c91/65761e66de9f.dcm\"\n",
    "dicom = read_file(file_path, stop_before_pixels=False)"
   ]
  },
  {
   "cell_type": "code",
   "execution_count": 30,
   "metadata": {
    "execution": {
     "iopub.execute_input": "2021-07-23T22:49:23.998368Z",
     "iopub.status.busy": "2021-07-23T22:49:23.998023Z",
     "iopub.status.idle": "2021-07-23T22:49:24.010747Z",
     "shell.execute_reply": "2021-07-23T22:49:24.009636Z",
     "shell.execute_reply.started": "2021-07-23T22:49:23.998319Z"
    }
   },
   "outputs": [
    {
     "data": {
      "text/plain": [
       "(numpy.ndarray, (2330, 2783))"
      ]
     },
     "execution_count": 30,
     "metadata": {},
     "output_type": "execute_result"
    }
   ],
   "source": [
    "img=dicom.pixel_array\n",
    "type(img), img.shape"
   ]
  },
  {
   "cell_type": "code",
   "execution_count": 31,
   "metadata": {
    "execution": {
     "iopub.execute_input": "2021-07-23T22:50:41.180873Z",
     "iopub.status.busy": "2021-07-23T22:50:41.180386Z",
     "iopub.status.idle": "2021-07-23T22:50:42.219942Z",
     "shell.execute_reply": "2021-07-23T22:50:42.218959Z",
     "shell.execute_reply.started": "2021-07-23T22:50:41.180829Z"
    }
   },
   "outputs": [
    {
     "data": {
      "image/png": "[encoded data removed]",
      "text/plain": [
       "<Figure size 720x576 with 1 Axes>"
      ]
     },
     "metadata": {
      "needs_background": "light"
     },
     "output_type": "display_data"
    }
   ],
   "source": [
    "box = image_df.loc[image_df['id']=='65761e66de9f_image'].reset_index(drop=True)\n",
    "from ast import literal_eval\n",
    "\n",
    "import matplotlib.patches as patches\n",
    "# Create figure and axes\n",
    "fig, ax = plt.subplots(figsize=(10, 8))\n",
    "ax.imshow(img, cmap=\"gray\")\n",
    "# Create a Rectangle patch\n",
    "rect1 = patches.Rectangle((720.65215, 636.51048), 332.19348, 648.12561, linewidth=1.5, edgecolor='r', facecolor='none')\n",
    "rect2 = patches.Rectangle((2044.77989, 847.90622), 329.87049, 576.11169, linewidth=1.5, edgecolor='r', facecolor='none')\n",
    "# Add the patch to the Axes\n",
    "ax.add_patch(rect1)\n",
    "ax.add_patch(rect2)\n",
    "plt.show()"
   ]
  },
  {
   "cell_type": "code",
   "execution_count": 28,
   "metadata": {
    "execution": {
     "iopub.execute_input": "2021-07-23T22:48:23.213101Z",
     "iopub.status.busy": "2021-07-23T22:48:23.212779Z",
     "iopub.status.idle": "2021-07-23T22:48:23.262043Z",
     "shell.execute_reply": "2021-07-23T22:48:23.261246Z",
     "shell.execute_reply.started": "2021-07-23T22:48:23.213072Z"
    }
   },
   "outputs": [
    {
     "data": {
      "text/html": [
       "<div>\n",
       "<style scoped>\n",
       "    .dataframe tbody tr th:only-of-type {\n",
       "        vertical-align: middle;\n",
       "    }\n",
       "\n",
       "    .dataframe tbody tr th {\n",
       "        vertical-align: top;\n",
       "    }\n",
       "\n",
       "    .dataframe thead th {\n",
       "        text-align: right;\n",
       "    }\n",
       "</style>\n",
       "<table border=\"1\" class=\"dataframe\">\n",
       "  <thead>\n",
       "    <tr style=\"text-align: right;\">\n",
       "      <th></th>\n",
       "      <th>imageID</th>\n",
       "      <th>boxes</th>\n",
       "      <th>label</th>\n",
       "      <th>StudyInstanceUID</th>\n",
       "      <th>negative</th>\n",
       "      <th>typical</th>\n",
       "      <th>indeterminate</th>\n",
       "      <th>atypical</th>\n",
       "      <th>target</th>\n",
       "    </tr>\n",
       "  </thead>\n",
       "  <tbody>\n",
       "    <tr>\n",
       "      <th>0</th>\n",
       "      <td>000a312787f2</td>\n",
       "      <td>[{'x': 789.28836, 'y': 582.43035, 'width': 1026.65662, 'height': 1917.30292}, {'x': 2245.91208, 'y': 591.20528, 'width': 1094.66162, 'height': 1761.54944}]</td>\n",
       "      <td>opacity 1 789.28836 582.43035 1815.94498 2499.73327 opacity 1 2245.91208 591.20528 3340.5737 2352.75472</td>\n",
       "      <td>5776db0cec75</td>\n",
       "      <td>0</td>\n",
       "      <td>1</td>\n",
       "      <td>0</td>\n",
       "      <td>0</td>\n",
       "      <td>typical</td>\n",
       "    </tr>\n",
       "    <tr>\n",
       "      <th>1</th>\n",
       "      <td>000c3a3f293f</td>\n",
       "      <td>NaN</td>\n",
       "      <td>none 1 0 0 1 1</td>\n",
       "      <td>ff0879eb20ed</td>\n",
       "      <td>1</td>\n",
       "      <td>0</td>\n",
       "      <td>0</td>\n",
       "      <td>0</td>\n",
       "      <td>negative</td>\n",
       "    </tr>\n",
       "    <tr>\n",
       "      <th>2</th>\n",
       "      <td>0012ff7358bc</td>\n",
       "      <td>[{'x': 677.42216, 'y': 197.97662, 'width': 867.79767, 'height': 999.78214}, {'x': 1792.69064, 'y': 402.5525, 'width': 617.02734, 'height': 1204.358}]</td>\n",
       "      <td>opacity 1 677.42216 197.97662 1545.21983 1197.75876 opacity 1 1792.69064 402.5525 2409.71798 1606.9105</td>\n",
       "      <td>9d514ce429a7</td>\n",
       "      <td>0</td>\n",
       "      <td>1</td>\n",
       "      <td>0</td>\n",
       "      <td>0</td>\n",
       "      <td>typical</td>\n",
       "    </tr>\n",
       "    <tr>\n",
       "      <th>3</th>\n",
       "      <td>001398f4ff4f</td>\n",
       "      <td>[{'x': 2729, 'y': 2181.33331, 'width': 948.00012, 'height': 604}]</td>\n",
       "      <td>opacity 1 2729 2181.33331 3677.00012 2785.33331</td>\n",
       "      <td>28dddc8559b2</td>\n",
       "      <td>0</td>\n",
       "      <td>0</td>\n",
       "      <td>0</td>\n",
       "      <td>1</td>\n",
       "      <td>atypical</td>\n",
       "    </tr>\n",
       "    <tr>\n",
       "      <th>4</th>\n",
       "      <td>001bd15d1891</td>\n",
       "      <td>[{'x': 623.23328, 'y': 1050, 'width': 714, 'height': 1106}, {'x': 2578.56661, 'y': 998.66667, 'width': 662.66667, 'height': 1120}]</td>\n",
       "      <td>opacity 1 623.23328 1050 1337.23328 2156 opacity 1 2578.56661 998.66667 3241.23328 2118.66667</td>\n",
       "      <td>dfd9fdd85a3e</td>\n",
       "      <td>0</td>\n",
       "      <td>1</td>\n",
       "      <td>0</td>\n",
       "      <td>0</td>\n",
       "      <td>typical</td>\n",
       "    </tr>\n",
       "  </tbody>\n",
       "</table>\n",
       "</div>"
      ],
      "text/plain": [
       "        imageID  \\\n",
       "0  000a312787f2   \n",
       "1  000c3a3f293f   \n",
       "2  0012ff7358bc   \n",
       "3  001398f4ff4f   \n",
       "4  001bd15d1891   \n",
       "\n",
       "                                                                                                                                                         boxes  \\\n",
       "0  [{'x': 789.28836, 'y': 582.43035, 'width': 1026.65662, 'height': 1917.30292}, {'x': 2245.91208, 'y': 591.20528, 'width': 1094.66162, 'height': 1761.54944}]   \n",
       "1                                                                                                                                                          NaN   \n",
       "2        [{'x': 677.42216, 'y': 197.97662, 'width': 867.79767, 'height': 999.78214}, {'x': 1792.69064, 'y': 402.5525, 'width': 617.02734, 'height': 1204.358}]   \n",
       "3                                                                                            [{'x': 2729, 'y': 2181.33331, 'width': 948.00012, 'height': 604}]   \n",
       "4                           [{'x': 623.23328, 'y': 1050, 'width': 714, 'height': 1106}, {'x': 2578.56661, 'y': 998.66667, 'width': 662.66667, 'height': 1120}]   \n",
       "\n",
       "                                                                                                     label  \\\n",
       "0  opacity 1 789.28836 582.43035 1815.94498 2499.73327 opacity 1 2245.91208 591.20528 3340.5737 2352.75472   \n",
       "1                                                                                           none 1 0 0 1 1   \n",
       "2   opacity 1 677.42216 197.97662 1545.21983 1197.75876 opacity 1 1792.69064 402.5525 2409.71798 1606.9105   \n",
       "3                                                          opacity 1 2729 2181.33331 3677.00012 2785.33331   \n",
       "4            opacity 1 623.23328 1050 1337.23328 2156 opacity 1 2578.56661 998.66667 3241.23328 2118.66667   \n",
       "\n",
       "  StudyInstanceUID  negative  typical  indeterminate  atypical    target  \n",
       "0     5776db0cec75         0        1              0         0   typical  \n",
       "1     ff0879eb20ed         1        0              0         0  negative  \n",
       "2     9d514ce429a7         0        1              0         0   typical  \n",
       "3     28dddc8559b2         0        0              0         1  atypical  \n",
       "4     dfd9fdd85a3e         0        1              0         0   typical  "
      ]
     },
     "execution_count": 28,
     "metadata": {},
     "output_type": "execute_result"
    }
   ],
   "source": [
    "# Merging study_level and image_level\n",
    "# rename id column in study_level to StudyInstanceUID\n",
    "study_df.rename(columns = {'id':'StudyInstanceUID'}, inplace = True)\n",
    "\n",
    "# remove _study from StudyInstanceUID\n",
    "study_df['StudyInstanceUID'] = study_df['StudyInstanceUID'].str.replace('_study', '')\n",
    "\n",
    "# merge\n",
    "df_train = pd.merge(image_df, study_df, on='StudyInstanceUID')\n",
    "\n",
    "# remove _image from id column\n",
    "df_train['id'] = df_train['id'].str.replace('_image', '')\n",
    "\n",
    "# rename id column as imageID\n",
    "df_train.rename(columns = {'id':'imageID'}, inplace = True)\n",
    "\n",
    "# renaming target columns\n",
    "df_train.rename(columns = {'Negative for Pneumonia':'negative'}, inplace = True)\n",
    "df_train.rename(columns = {'Typical Appearance':'typical'}, inplace = True)\n",
    "df_train.rename(columns = {'Indeterminate Appearance':'indeterminate'}, inplace = True)\n",
    "df_train.rename(columns = {'Atypical Appearance':'atypical'}, inplace = True)\n",
    "\n",
    "# Create a new target column\n",
    "categories = ['negative','typical','indeterminate','atypical']\n",
    "df = df_train[categories]\n",
    "df_train[\"target\"] = pd.Series(df.columns[np.where(df!=0)[1]])\n",
    "df_train.head()"
   ]
  }
 ],
 "metadata": {
  "kernelspec": {
   "display_name": "Python 3 (ipykernel)",
   "language": "python",
   "name": "python3"
  },
  "language_info": {
   "codemirror_mode": {
    "name": "ipython",
    "version": 3
   },
   "file_extension": ".py",
   "mimetype": "text/x-python",
   "name": "python",
   "nbconvert_exporter": "python",
   "pygments_lexer": "ipython3",
   "version": "3.8.10"
  }
 },
 "nbformat": 4,
 "nbformat_minor": 4
}
