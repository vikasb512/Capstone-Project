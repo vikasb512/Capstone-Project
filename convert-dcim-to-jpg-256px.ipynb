{
 "cells": [
  {
   "cell_type": "markdown",
   "metadata": {},
   "source": [
    "## See Below Link for the Original Kaggle Notebook:\n",
    "\n",
    "https://www.kaggle.com/vikasb512/convert-dcim-to-jpg-256px"
   ]
  },
  {
   "cell_type": "markdown",
   "metadata": {},
   "source": [
    "Super thankful to @xhlulu for converting dicom image data to jpg files and sharing the bulk of below functions ⚡"
   ]
  },
  {
   "cell_type": "code",
   "execution_count": 1,
   "metadata": {
    "_kg_hide-output": true,
    "execution": {
     "iopub.execute_input": "2021-07-23T22:14:53.414429Z",
     "iopub.status.busy": "2021-07-23T22:14:53.413964Z",
     "iopub.status.idle": "2021-07-23T22:15:56.398170Z",
     "shell.execute_reply": "2021-07-23T22:15:56.396997Z",
     "shell.execute_reply.started": "2021-07-23T22:14:53.414333Z"
    }
   },
   "outputs": [
    {
     "name": "stdout",
     "output_type": "stream",
     "text": [
      "Collecting package metadata (current_repodata.json): done\n",
      "Solving environment: done\n",
      "\n",
      "## Package Plan ##\n",
      "\n",
      "  environment location: /opt/conda\n",
      "\n",
      "  added / updated specs:\n",
      "    - gdcm\n",
      "\n",
      "\n",
      "The following packages will be downloaded:\n",
      "\n",
      "    package                    |            build\n",
      "    ---------------------------|-----------------\n",
      "    ca-certificates-2021.5.30  |       ha878542_0         136 KB  conda-forge\n",
      "    certifi-2021.5.30          |   py37h89c1867_0         141 KB  conda-forge\n",
      "    conda-4.10.3               |   py37h89c1867_0         3.1 MB  conda-forge\n",
      "    gdcm-2.8.9                 |   py37h5d359c0_2         3.4 MB  conda-forge\n",
      "    libjpeg-turbo-2.1.0        |       h7f98852_0         987 KB  conda-forge\n",
      "    ------------------------------------------------------------\n",
      "                                           Total:         7.7 MB\n",
      "\n",
      "The following NEW packages will be INSTALLED:\n",
      "\n",
      "  gdcm               conda-forge/linux-64::gdcm-2.8.9-py37h5d359c0_2\n",
      "  libjpeg-turbo      conda-forge/linux-64::libjpeg-turbo-2.1.0-h7f98852_0\n",
      "\n",
      "The following packages will be UPDATED:\n",
      "\n",
      "  ca-certificates                      2020.12.5-ha878542_0 --> 2021.5.30-ha878542_0\n",
      "  certifi                          2020.12.5-py37h89c1867_1 --> 2021.5.30-py37h89c1867_0\n",
      "  conda                               4.10.1-py37h89c1867_0 --> 4.10.3-py37h89c1867_0\n",
      "\n",
      "\n",
      "\n",
      "Downloading and Extracting Packages\n",
      "libjpeg-turbo-2.1.0  | 987 KB    | ##################################### | 100% \n",
      "gdcm-2.8.9           | 3.4 MB    | ##################################### | 100% \n",
      "conda-4.10.3         | 3.1 MB    | ##################################### | 100% \n",
      "certifi-2021.5.30    | 141 KB    | ##################################### | 100% \n",
      "ca-certificates-2021 | 136 KB    | ##################################### | 100% \n",
      "Preparing transaction: done\n",
      "Verifying transaction: done\n",
      "Executing transaction: done\n"
     ]
    }
   ],
   "source": [
    "!conda install gdcm -c conda-forge -y"
   ]
  },
  {
   "cell_type": "code",
   "execution_count": 2,
   "metadata": {
    "_cell_guid": "b1076dfc-b9ad-4769-8c92-a6c4dae69d19",
    "_uuid": "8f2839f25d086af736a60e9eeb907d3b93b6e0e5",
    "execution": {
     "iopub.execute_input": "2021-07-23T22:15:56.402644Z",
     "iopub.status.busy": "2021-07-23T22:15:56.402310Z",
     "iopub.status.idle": "2021-07-23T22:15:56.419614Z",
     "shell.execute_reply": "2021-07-23T22:15:56.418415Z",
     "shell.execute_reply.started": "2021-07-23T22:15:56.402605Z"
    }
   },
   "outputs": [],
   "source": [
    "import os\n",
    "\n",
    "from PIL import Image\n",
    "import pandas as pd\n",
    "from tqdm.auto import tqdm"
   ]
  },
  {
   "cell_type": "code",
   "execution_count": 3,
   "metadata": {
    "execution": {
     "iopub.execute_input": "2021-07-23T22:15:56.421852Z",
     "iopub.status.busy": "2021-07-23T22:15:56.421535Z",
     "iopub.status.idle": "2021-07-23T22:15:56.829597Z",
     "shell.execute_reply": "2021-07-23T22:15:56.828521Z",
     "shell.execute_reply.started": "2021-07-23T22:15:56.421811Z"
    }
   },
   "outputs": [],
   "source": [
    "import numpy as np\n",
    "import pydicom\n",
    "from pydicom.pixel_data_handlers.util import apply_voi_lut\n",
    "\n",
    "def read_xray(path, voi_lut = True, fix_monochrome = True):\n",
    "    # Original from: https://www.kaggle.com/raddar/convert-dicom-to-np-array-the-correct-way\n",
    "    dicom = pydicom.read_file(path)\n",
    "    \n",
    "    # VOI LUT (if available by DICOM device) is used to transform raw DICOM data to \n",
    "    # \"human-friendly\" view\n",
    "    if voi_lut:\n",
    "        data = apply_voi_lut(dicom.pixel_array, dicom)\n",
    "    else:\n",
    "        data = dicom.pixel_array\n",
    "               \n",
    "    # depending on this value, X-ray may look inverted - fix that:\n",
    "    if fix_monochrome and dicom.PhotometricInterpretation == \"MONOCHROME1\":\n",
    "        data = np.amax(data) - data\n",
    "        \n",
    "    data = data - np.min(data)\n",
    "    data = data / np.max(data)\n",
    "    data = (data * 255).astype(np.uint8)\n",
    "        \n",
    "    return data"
   ]
  },
  {
   "cell_type": "code",
   "execution_count": 4,
   "metadata": {
    "execution": {
     "iopub.execute_input": "2021-07-23T22:17:20.349166Z",
     "iopub.status.busy": "2021-07-23T22:17:20.348734Z",
     "iopub.status.idle": "2021-07-23T22:17:20.354893Z",
     "shell.execute_reply": "2021-07-23T22:17:20.353705Z",
     "shell.execute_reply.started": "2021-07-23T22:17:20.349126Z"
    }
   },
   "outputs": [],
   "source": [
    "def resize(array, size, keep_ratio=False, resample=Image.LANCZOS):\n",
    "    # Original from: https://www.kaggle.com/xhlulu/vinbigdata-process-and-resize-to-image\n",
    "    im = Image.fromarray(array)\n",
    "    \n",
    "    if keep_ratio:\n",
    "        im.thumbnail((size, size), resample)\n",
    "    else:\n",
    "        im = im.resize((size, size), resample)\n",
    "    \n",
    "    return im"
   ]
  },
  {
   "cell_type": "code",
   "execution_count": 5,
   "metadata": {
    "execution": {
     "iopub.execute_input": "2021-07-23T22:17:20.897635Z",
     "iopub.status.busy": "2021-07-23T22:17:20.897229Z",
     "iopub.status.idle": "2021-07-23T22:17:20.957276Z",
     "shell.execute_reply": "2021-07-23T22:17:20.956203Z",
     "shell.execute_reply.started": "2021-07-23T22:17:20.897595Z"
    }
   },
   "outputs": [],
   "source": [
    "train = pd.read_csv('../input/siim-covid19-detection/train_image_level.csv')"
   ]
  },
  {
   "cell_type": "code",
   "execution_count": 6,
   "metadata": {
    "execution": {
     "iopub.execute_input": "2021-07-23T22:17:22.792252Z",
     "iopub.status.busy": "2021-07-23T22:17:22.791714Z",
     "iopub.status.idle": "2021-07-23T22:17:23.136165Z",
     "shell.execute_reply": "2021-07-23T22:17:23.135172Z",
     "shell.execute_reply.started": "2021-07-23T22:17:22.792214Z"
    }
   },
   "outputs": [],
   "source": [
    "path = '../input/siim-covid19-detection/train/ae3e63d94c13/288554eb6182/e00f9fe0cce5.dcm'\n",
    "dicom = pydicom.read_file(path)"
   ]
  },
  {
   "cell_type": "code",
   "execution_count": 7,
   "metadata": {
    "execution": {
     "iopub.execute_input": "2021-07-23T22:17:23.387058Z",
     "iopub.status.busy": "2021-07-23T22:17:23.386699Z",
     "iopub.status.idle": "2021-07-23T23:06:30.489398Z",
     "shell.execute_reply": "2021-07-23T23:06:30.488187Z",
     "shell.execute_reply.started": "2021-07-23T22:17:23.387024Z"
    }
   },
   "outputs": [
    {
     "data": {
      "application/vnd.jupyter.widget-view+json": {
       "model_id": "6486ff686350490181c3a5dcf36628ed",
       "version_major": 2,
       "version_minor": 0
      },
      "text/plain": [
       "0it [00:00, ?it/s]"
      ]
     },
     "metadata": {},
     "output_type": "display_data"
    },
    {
     "data": {
      "application/vnd.jupyter.widget-view+json": {
       "model_id": "30f4090e23dc4b1c81c4663b4c930e6c",
       "version_major": 2,
       "version_minor": 0
      },
      "text/plain": [
       "0it [00:00, ?it/s]"
      ]
     },
     "metadata": {},
     "output_type": "display_data"
    },
    {
     "name": "stderr",
     "output_type": "stream",
     "text": [
      "/opt/conda/lib/python3.7/site-packages/pydicom/pixel_data_handlers/numpy_handler.py:341: UserWarning: The length of the pixel data in the dataset (13262360 bytes) indicates it contains excess padding. 216296 bytes will be removed from the end of the data\n",
      "  warnings.warn(msg)\n"
     ]
    }
   ],
   "source": [
    "image_id = []\n",
    "dim0 = []\n",
    "dim1 = []\n",
    "splits = []\n",
    "\n",
    "for split in ['test', 'train']:\n",
    "    save_dir = f'/kaggle/tmp/{split}/'\n",
    "\n",
    "    os.makedirs(save_dir, exist_ok=True)\n",
    "    \n",
    "    for dirname, _, filenames in tqdm(os.walk(f'../input/siim-covid19-detection/{split}')):\n",
    "        for file in filenames:\n",
    "            # set keep_ratio=True to have original aspect ratio\n",
    "            xray = read_xray(os.path.join(dirname, file))\n",
    "            im = resize(xray, size=256)  \n",
    "            im.save(os.path.join(save_dir, file.replace('dcm', 'jpg')))\n",
    "\n",
    "            image_id.append(file.replace('.dcm', ''))\n",
    "            dim0.append(xray.shape[0])\n",
    "            dim1.append(xray.shape[1])\n",
    "            splits.append(split)"
   ]
  },
  {
   "cell_type": "code",
   "execution_count": 8,
   "metadata": {
    "execution": {
     "iopub.execute_input": "2021-07-23T23:06:30.492823Z",
     "iopub.status.busy": "2021-07-23T23:06:30.492193Z",
     "iopub.status.idle": "2021-07-23T23:06:34.670385Z",
     "shell.execute_reply": "2021-07-23T23:06:34.669251Z",
     "shell.execute_reply.started": "2021-07-23T23:06:30.492780Z"
    }
   },
   "outputs": [
    {
     "name": "stdout",
     "output_type": "stream",
     "text": [
      "CPU times: user 47.1 ms, sys: 24.7 ms, total: 71.8 ms\n",
      "Wall time: 4.17 s\n"
     ]
    }
   ],
   "source": [
    "%%time\n",
    "!tar -zcf train.tar.gz -C \"/kaggle/tmp/train/\" .\n",
    "!tar -zcf test.tar.gz -C \"/kaggle/tmp/test/\" ."
   ]
  },
  {
   "cell_type": "code",
   "execution_count": 10,
   "metadata": {
    "execution": {
     "iopub.execute_input": "2021-07-23T23:06:43.123500Z",
     "iopub.status.busy": "2021-07-23T23:06:43.123113Z",
     "iopub.status.idle": "2021-07-23T23:06:43.148119Z",
     "shell.execute_reply": "2021-07-23T23:06:43.147106Z",
     "shell.execute_reply.started": "2021-07-23T23:06:43.123466Z"
    }
   },
   "outputs": [],
   "source": [
    "df = pd.DataFrame.from_dict({'image_id': image_id, 'dim0': dim0, 'dim1': dim1, 'split': splits})\n",
    "df.to_csv('meta.csv', index=False)"
   ]
  },
  {
   "cell_type": "code",
   "execution_count": null,
   "metadata": {},
   "outputs": [],
   "source": []
  }
 ],
 "metadata": {
  "kernelspec": {
   "display_name": "Python 3 (ipykernel)",
   "language": "python",
   "name": "python3"
  },
  "language_info": {
   "codemirror_mode": {
    "name": "ipython",
    "version": 3
   },
   "file_extension": ".py",
   "mimetype": "text/x-python",
   "name": "python",
   "nbconvert_exporter": "python",
   "pygments_lexer": "ipython3",
   "version": "3.8.10"
  }
 },
 "nbformat": 4,
 "nbformat_minor": 4
}
